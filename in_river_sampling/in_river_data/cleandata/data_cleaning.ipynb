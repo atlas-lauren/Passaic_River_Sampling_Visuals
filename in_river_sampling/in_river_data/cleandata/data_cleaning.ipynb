{
 "cells": [
  {
   "cell_type": "markdown",
   "id": "064aa5c7",
   "metadata": {},
   "source": [
    "### 1. Convert all xlsx to csv\n",
    "Background:\n",
    "- Downloaded all datasets related to Passaic River sampling from https://sharepoint.ourpassaic.org/SitePages/Passaic%20River%20Datasets to \"xlsx_to_convert\" directory. Included: sediment, water column, biota sampling. We will need to review the datasets to determine if they arre alike enough to analyze using the same comparisons.\n",
    "- Excluded all datasets related to Newark Bay (OU3) because Newark Bay is outside our geographic scope.\n",
    "- Excluded all Bathymetry (mapping the bottom of the river) datasets because we aren't running an analysis on the physical features or water flow of the River.\n",
    "- Added all Microsoft Access datasets to a separate directory (\"access_to_convert\") because those will need a separate conversion process.\n",
    "\n",
    "\n",
    "Now attempting to add a function to open the xlsx datasets from \"xlsx_to_convert\" directory and save as csv to the \"rawdata\" directory\n",
    "-LK 4/2/2022 at 8am"
   ]
  },
  {
   "cell_type": "code",
   "execution_count": 17,
   "id": "1317b2ea-033b-4c27-92af-ab3cb2c1d10e",
   "metadata": {},
   "outputs": [],
   "source": [
    "import pandas as pd\n",
    "from pathlib import Path\n",
    "import numpy as np\n",
    "import os"
   ]
  },
  {
   "cell_type": "code",
   "execution_count": 18,
   "id": "4517a35e",
   "metadata": {},
   "outputs": [],
   "source": [
    "# This function opens excel files in the xlsx directory, convert them to csv, and save in the rawdata directory.\n",
    "def convert_xlsx_to_csv(xlsx_directory):\n",
    "    for filename in os.listdir(xlsx_directory):\n",
    "        if filename.endswith('.xlsx'):\n",
    "            filepath = Path(f'../rawdata/xlsx_to_convert/{filename}')\n",
    "            csv_data = pd.read_excel(filepath)\n",
    "            new_filename = filepath.stem\n",
    "            csv_data.to_csv(f'../rawdata/{new_filename}.csv')\n",
    "        else:\n",
    "            pass\n"
   ]
  },
  {
   "cell_type": "code",
   "execution_count": 19,
   "id": "dd25d2cf",
   "metadata": {},
   "outputs": [],
   "source": [
    "# This sets the xlsx directory to the \"xlsx_to_convert\" folder and runs the function.\n",
    "# Note: it took 30 minutes to convert all the datasets (on LK machine)\n",
    "xlsx_directory = '../rawdata/xlsx_to_convert'\n",
    "# convert_xlsx_to_csv(xlsx_directory)"
   ]
  },
  {
   "cell_type": "markdown",
   "id": "34d7b2a8",
   "metadata": {},
   "source": [
    "### 2. Narrow down the columns in our csvs to just the columns we want\n",
    "Background:\n",
    "- In class on 4/2/22 we reviewed the original datasets in excel and identified all columns we want to include in our analysis.\n",
    "- The columns are:\n",
    "['LOC_NAME',\n",
    "'SAMPLE_DATE',\n",
    "'TASK_CODE', \n",
    "'ANALYTIC_METHOD', \n",
    "'CAS_RN', \n",
    "'CHEMICAL_NAME', \n",
    "'REPORT_RESULT_VALUE', \n",
    "'REPORT_RESULT_UNIT', \n",
    "'REPORT_RESULT_LIMIT', \n",
    "'DETECT_FLAG', \n",
    "'REPORTABLE_RESULT', \n",
    "'LONGITUDE', \n",
    "'LATITUDE']\n",
    "- Now we want to write a function that slices the datasets into just those columns. Potential issues are:\n",
    "- Different column names"
   ]
  },
  {
   "cell_type": "code",
   "execution_count": null,
   "id": "1575c24b",
   "metadata": {},
   "outputs": [],
   "source": [
    "# Write loop to open csvs and pare down columns\n",
    "raw_data_dir = '../rawdata'\n",
    "for filename in os.listdir(raw_data_dir):\n",
    "        if filename.endswith('.csv'):\n",
    "            filepath = Path(f'../rawdata/{filename}')\n",
    "            csv_data = pd.read_csv(filepath, parse_dates=True, infer_datetime_format=True)\n",
    "            csv_data.columns = [col_name.upper() for col_name in csv_data.columns]\n",
    "            upper_columns = ['LOC_NAME', 'SAMPLE_DATE', 'TASK_CODE', 'ANALYTIC_METHOD', 'CAS_RN', 'CHEMICAL_NAME', 'REPORT_RESULT_VALUE', 'REPORT_RESULT_UNIT', 'REPORT_RESULT_LIMIT', 'DETECT_FLAG', 'REPORTABLE_RESULT', 'LONGITUDE', 'LATITUDE']\n",
    "            check = all(item in csv_data.columns for item in upper_columns)\n",
    "            if check is True:\n",
    "                clean_data = csv_data[upper_columns]\n",
    "                new_filename = filepath.stem\n",
    "                clean_data.to_csv(f'../cleandata/{new_filename}.csv')"
   ]
  },
  {
   "cell_type": "code",
   "execution_count": null,
   "id": "b79211bf",
   "metadata": {},
   "outputs": [
    {
     "name": "stdout",
     "output_type": "stream",
     "text": [
      "../../data/rawdata\n"
     ]
    }
   ],
   "source": [
    "# Write loop to open csvs over 50 mb, pare down columns, and split into frames of 200,000 rows\n",
    "toobig_data_dir = '../rawdata/too_big'\n",
    "for filename in os.listdir(toobig_data_dir):\n",
    "    filepath = Path(toobig_data_dir+'/'+ filename)\n",
    "    if filename.endswith('.csv'):\n",
    "        big_data = pd.read_csv(filepath, parse_dates=True, infer_datetime_format=True, low_memory=False)\n",
    "    big_data.columns = [col_name.upper() for col_name in big_data.columns]\n",
    "    upper_columns = ['LOC_NAME', 'SAMPLE_DATE', 'TASK_CODE', 'ANALYTIC_METHOD', 'CAS_RN', 'CHEMICAL_NAME', 'REPORT_RESULT_VALUE', 'REPORT_RESULT_UNIT', 'REPORT_RESULT_LIMIT', 'DETECT_FLAG', 'REPORTABLE_RESULT', 'LONGITUDE', 'LATITUDE']\n",
    "    check = all(item in csv_data.columns for item in upper_columns)\n",
    "    if check is True:\n",
    "        big_clean_data = big_data[upper_columns]\n",
    "    new_filename = filepath.stem\n",
    "    for i in range(0, len(big_clean_data), int(2e5)):\n",
    "        csv_number = str(int(i/200000))\n",
    "        big_clean_data.iloc[i:i+int(2e5)].to_csv(f'{new_filename}_{csv_number}.csv', index=False)\n",
    "\n"
   ]
  },
  {
   "cell_type": "code",
   "execution_count": null,
   "id": "53b6f46f",
   "metadata": {},
   "outputs": [],
   "source": []
  }
 ],
 "metadata": {
  "kernelspec": {
   "display_name": "Python 3 (ipykernel)",
   "language": "python",
   "name": "python3"
  },
  "language_info": {
   "codemirror_mode": {
    "name": "ipython",
    "version": 3
   },
   "file_extension": ".py",
   "mimetype": "text/x-python",
   "name": "python",
   "nbconvert_exporter": "python",
   "pygments_lexer": "ipython3",
   "version": "3.9.7"
  }
 },
 "nbformat": 4,
 "nbformat_minor": 5
}
